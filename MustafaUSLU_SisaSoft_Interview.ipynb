{
 "cells": [
  {
   "cell_type": "code",
   "execution_count": 1,
   "metadata": {},
   "outputs": [],
   "source": [
    "# -- uslu.mserhat2@gmail.com\n",
    "\n",
    "# RESULTS:\n",
    "#          (Go To the Very Bottom of the Report for Quick View of the Results)\n",
    "#\n",
    "#          - 0.94 Average Accuracy with similar F1 values achieved by Random Forest Algorithm \n",
    "#          - 0.88 Average Accuracy with similar F1 values achieved by Desicion Tree Algorithm\n",
    "#          - 0.87 Average Accuracy with similar F1 values achieved by K-NN \n",
    "\n",
    "# BONUS:\n",
    "#        >>> According to the Categorical Feature Analysis:\n",
    "#             - Students have the highest chance of subscribing (15%), housemaids have the lowest chance (4%)  [at box 21]\n",
    "#             - Single and Divorced people have a higher chance of subscribing opposed to Married people       [at box 22]\n",
    "#             - Education level and subscribtion chance have a positive correlation                            [at box 23]\n",
    "#             - People who hasn't defauled have a slightly higher chance of subscribing                        [at box 24]\n",
    "#             - Housing and subscribtion has a negative correlation                                            [at box 25]\n",
    "#             - Loans and subscribtion has a negative correlation                                              [at box 26]\n",
    "#             - People who has been contacted by a cellular phone has a higher chance of suscribing            [at box 27]\n",
    "#\n",
    "#        >>> According to the Numerical Feature Analysis:\n",
    "#             - Age > Balance == Duration > Num_ofPeople_in_Campaign is the order of features having higher correlation with \"y\"\n",
    "\n",
    "# SUMMARY:\n",
    "#        *Pre-Processing:\n",
    "#             -> checked nulls\n",
    "#             -> dtypes checked \n",
    "#             -> Processed Numerical Features\n",
    "#                  -\"y\"        1-One Hot Encoding\n",
    "#                  - \"age\"      1-outlier analysis 2-standardize \n",
    "#                  - \"balance   1-outlier analysis 2-standardize\n",
    "#                  - \"day\"      1-REMOVE\n",
    "#                  - \"duration  1-outlier analysis 2-standardize\n",
    "#                  - \"campaign\" 1-produce \"Num_of_ppl_in_campaign\" then remove \"campaign\" 2-standardize\n",
    "#             -> Processed Categorical Features\n",
    "#                  - \"job\"         1-ONE HOT ENCODE         \n",
    "#                  - \"marital\"     1-ONE HOT ENCODE\n",
    "#                  - \"education\"   1-ONE HOT ENCODE\n",
    "#                  - \"default\"     1-ONE HOT ENCODE\n",
    "#                  - \"housing\"     1-ONE HOT ENCODE\n",
    "#                  - \"loan\"        1-ONE HOT ENCODE\n",
    "#                  - \"contact\"     1-ONE HOT ENCODE\n",
    "#                  - \"month\"       1-REMOVE\n",
    "#       \n",
    "#          *Over-Sampling the yes instances with SMOTE\n",
    "#           \n",
    "#          *5-Fold Cross-Validation Split\n",
    "#\n",
    "#          *Predictions and Evaluations"
   ]
  },
  {
   "cell_type": "code",
   "execution_count": 2,
   "metadata": {},
   "outputs": [],
   "source": [
    "from IPython.display import display\n",
    "import sys \n",
    "import numpy as np # linear algebra\n",
    "from scipy.stats import randint\n",
    "import pandas as pd # data processing, CSV file I/O (e.g. pd.read_csv), data manipulation as in SQL\n",
    "import matplotlib.pyplot as plt # this is used for the plot the graph \n",
    "import seaborn as sns # used for plot interactive graph. \n",
    "from sklearn.model_selection import train_test_split # to split the data into two parts\n",
    "from sklearn import preprocessing\n",
    "from matplotlib import pyplot\n",
    "import plotly.express as px\n",
    "from sklearn.cluster import DBSCAN\n",
    "import warnings\n",
    "from sklearn.preprocessing import LabelEncoder \n",
    "from sklearn.preprocessing import OneHotEncoder\n",
    "from sklearn.model_selection import RepeatedKFold\n",
    "from imblearn.over_sampling import SMOTE\n",
    "from sklearn.metrics import accuracy_score\n",
    "from sklearn.metrics import classification_report\n",
    "from sklearn.metrics import confusion_matrix\n",
    "warnings.filterwarnings(\"ignore\")"
   ]
  },
  {
   "cell_type": "code",
   "execution_count": 3,
   "metadata": {},
   "outputs": [],
   "source": [
    "#VERIYI YÜKLÜYORUZ\n",
    "DataTraining = pd.read_csv(r'C:\\Users\\Mustafa\\Desktop\\SiSaSoft\\term-deposit-marketing-2020.csv')"
   ]
  },
  {
   "cell_type": "code",
   "execution_count": 4,
   "metadata": {},
   "outputs": [
    {
     "name": "stdout",
     "output_type": "stream",
     "text": [
      "age          0\n",
      "job          0\n",
      "marital      0\n",
      "education    0\n",
      "default      0\n",
      "balance      0\n",
      "housing      0\n",
      "loan         0\n",
      "contact      0\n",
      "day          0\n",
      "month        0\n",
      "duration     0\n",
      "campaign     0\n",
      "y            0\n",
      "dtype: int64\n"
     ]
    }
   ],
   "source": [
    "#NULL DEĞER KONTROLÜ YAPIYORUZ, null değer yok\n",
    "print(DataTraining.isnull().sum())"
   ]
  },
  {
   "cell_type": "code",
   "execution_count": 5,
   "metadata": {},
   "outputs": [
    {
     "data": {
      "text/html": [
       "<div>\n",
       "<style scoped>\n",
       "    .dataframe tbody tr th:only-of-type {\n",
       "        vertical-align: middle;\n",
       "    }\n",
       "\n",
       "    .dataframe tbody tr th {\n",
       "        vertical-align: top;\n",
       "    }\n",
       "\n",
       "    .dataframe thead th {\n",
       "        text-align: right;\n",
       "    }\n",
       "</style>\n",
       "<table border=\"1\" class=\"dataframe\">\n",
       "  <thead>\n",
       "    <tr style=\"text-align: right;\">\n",
       "      <th></th>\n",
       "      <th>age</th>\n",
       "      <th>job</th>\n",
       "      <th>marital</th>\n",
       "      <th>education</th>\n",
       "      <th>default</th>\n",
       "      <th>balance</th>\n",
       "      <th>housing</th>\n",
       "      <th>loan</th>\n",
       "      <th>contact</th>\n",
       "      <th>day</th>\n",
       "      <th>month</th>\n",
       "      <th>duration</th>\n",
       "      <th>campaign</th>\n",
       "      <th>y</th>\n",
       "    </tr>\n",
       "  </thead>\n",
       "  <tbody>\n",
       "    <tr>\n",
       "      <th>0</th>\n",
       "      <td>58</td>\n",
       "      <td>management</td>\n",
       "      <td>married</td>\n",
       "      <td>tertiary</td>\n",
       "      <td>no</td>\n",
       "      <td>2143</td>\n",
       "      <td>yes</td>\n",
       "      <td>no</td>\n",
       "      <td>unknown</td>\n",
       "      <td>5</td>\n",
       "      <td>may</td>\n",
       "      <td>261</td>\n",
       "      <td>1</td>\n",
       "      <td>no</td>\n",
       "    </tr>\n",
       "    <tr>\n",
       "      <th>1</th>\n",
       "      <td>44</td>\n",
       "      <td>technician</td>\n",
       "      <td>single</td>\n",
       "      <td>secondary</td>\n",
       "      <td>no</td>\n",
       "      <td>29</td>\n",
       "      <td>yes</td>\n",
       "      <td>no</td>\n",
       "      <td>unknown</td>\n",
       "      <td>5</td>\n",
       "      <td>may</td>\n",
       "      <td>151</td>\n",
       "      <td>1</td>\n",
       "      <td>no</td>\n",
       "    </tr>\n",
       "    <tr>\n",
       "      <th>2</th>\n",
       "      <td>33</td>\n",
       "      <td>entrepreneur</td>\n",
       "      <td>married</td>\n",
       "      <td>secondary</td>\n",
       "      <td>no</td>\n",
       "      <td>2</td>\n",
       "      <td>yes</td>\n",
       "      <td>yes</td>\n",
       "      <td>unknown</td>\n",
       "      <td>5</td>\n",
       "      <td>may</td>\n",
       "      <td>76</td>\n",
       "      <td>1</td>\n",
       "      <td>no</td>\n",
       "    </tr>\n",
       "    <tr>\n",
       "      <th>3</th>\n",
       "      <td>47</td>\n",
       "      <td>blue-collar</td>\n",
       "      <td>married</td>\n",
       "      <td>unknown</td>\n",
       "      <td>no</td>\n",
       "      <td>1506</td>\n",
       "      <td>yes</td>\n",
       "      <td>no</td>\n",
       "      <td>unknown</td>\n",
       "      <td>5</td>\n",
       "      <td>may</td>\n",
       "      <td>92</td>\n",
       "      <td>1</td>\n",
       "      <td>no</td>\n",
       "    </tr>\n",
       "    <tr>\n",
       "      <th>4</th>\n",
       "      <td>33</td>\n",
       "      <td>unknown</td>\n",
       "      <td>single</td>\n",
       "      <td>unknown</td>\n",
       "      <td>no</td>\n",
       "      <td>1</td>\n",
       "      <td>no</td>\n",
       "      <td>no</td>\n",
       "      <td>unknown</td>\n",
       "      <td>5</td>\n",
       "      <td>may</td>\n",
       "      <td>198</td>\n",
       "      <td>1</td>\n",
       "      <td>no</td>\n",
       "    </tr>\n",
       "  </tbody>\n",
       "</table>\n",
       "</div>"
      ],
      "text/plain": [
       "   age           job  marital  education default  balance housing loan  \\\n",
       "0   58    management  married   tertiary      no     2143     yes   no   \n",
       "1   44    technician   single  secondary      no       29     yes   no   \n",
       "2   33  entrepreneur  married  secondary      no        2     yes  yes   \n",
       "3   47   blue-collar  married    unknown      no     1506     yes   no   \n",
       "4   33       unknown   single    unknown      no        1      no   no   \n",
       "\n",
       "   contact  day month  duration  campaign   y  \n",
       "0  unknown    5   may       261         1  no  \n",
       "1  unknown    5   may       151         1  no  \n",
       "2  unknown    5   may        76         1  no  \n",
       "3  unknown    5   may        92         1  no  \n",
       "4  unknown    5   may       198         1  no  "
      ]
     },
     "execution_count": 5,
     "metadata": {},
     "output_type": "execute_result"
    }
   ],
   "source": [
    "#VERİ SETİNE GÖZ ATIYORUZ\n",
    "DataTraining.head()"
   ]
  },
  {
   "cell_type": "code",
   "execution_count": 6,
   "metadata": {},
   "outputs": [
    {
     "name": "stdout",
     "output_type": "stream",
     "text": [
      "age           int64\n",
      "job          object\n",
      "marital      object\n",
      "education    object\n",
      "default      object\n",
      "balance       int64\n",
      "housing      object\n",
      "loan         object\n",
      "contact      object\n",
      "day           int64\n",
      "month        object\n",
      "duration      int64\n",
      "campaign      int64\n",
      "y            object\n",
      "dtype: object\n"
     ]
    }
   ],
   "source": [
    "#VERİ TİPLERİNİ KONTROL EDİYORUZ \n",
    "print(DataTraining.dtypes)"
   ]
  },
  {
   "cell_type": "code",
   "execution_count": 7,
   "metadata": {},
   "outputs": [
    {
     "data": {
      "image/png": "[encoded data removed]",
      "text/plain": [
       "<Figure size 1440x108 with 2 Axes>"
      ]
     },
     "metadata": {
      "needs_background": "light"
     },
     "output_type": "display_data"
    },
    {
     "data": {
      "image/png": "[encoded data removed]",
      "text/plain": [
       "<Figure size 1440x108 with 2 Axes>"
      ]
     },
     "metadata": {
      "needs_background": "light"
     },
     "output_type": "display_data"
    },
    {
     "data": {
      "image/png": "[encoded data removed]",
      "text/plain": [
       "<Figure size 1440x108 with 2 Axes>"
      ]
     },
     "metadata": {
      "needs_background": "light"
     },
     "output_type": "display_data"
    },
    {
     "data": {
      "image/png": "[encoded data removed]",
      "text/plain": [
       "<Figure size 1440x108 with 2 Axes>"
      ]
     },
     "metadata": {
      "needs_background": "light"
     },
     "output_type": "display_data"
    },
    {
     "data": {
      "image/png": "[encoded data removed]",
      "text/plain": [
       "<Figure size 1440x108 with 2 Axes>"
      ]
     },
     "metadata": {
      "needs_background": "light"
     },
     "output_type": "display_data"
    }
   ],
   "source": [
    "#VISUALIZE NUMERIC VALUES AND CHECK HOW THEY EFFECT the RESULT (\"y\") INDIVIDUALLY\n",
    "\n",
    "def numericalDataAnalysis(featureNumeric):\n",
    "    fig, axes = plt.subplots(1, 2, figsize=(20, 1.5))\n",
    "    sns.scatterplot(ax=axes[0], data=DataTraining, x= DataTraining[featureNumeric], y= DataTraining[\"y\"]).set_title(\"y/\" + featureNumeric + \" relation\")\n",
    "    sns.distplot(DataTraining[featureNumeric]).set_title(featureNumeric + \" distribution\")\n",
    "    \n",
    "numericalDataAnalysis('age')      \n",
    "numericalDataAnalysis('balance')\n",
    "numericalDataAnalysis('day')      \n",
    "numericalDataAnalysis('duration')\n",
    "numericalDataAnalysis('campaign')"
   ]
  },
  {
   "cell_type": "code",
   "execution_count": 8,
   "metadata": {},
   "outputs": [],
   "source": [
    "#make a copy of the unprocessed data\n",
    "DataTraining_NotProcessed = DataTraining.copy()\n",
    "\n",
    "# - \"y\"        1-One Hot Encoding\n",
    "# - \"age\"      1-outlier analysis 2-standardize \n",
    "# - \"balance   1-outlier analysis 2-standardize\n",
    "# - \"day\"      1-REMOVE, not useful\n",
    "# - \"duration  1-outlier analysis 2-standardize\n",
    "# - \"campaign\" 1-produce, \"Num_of_ppl_in_campaign\" then remove \"campaign\" 2-standardize"
   ]
  },
  {
   "cell_type": "code",
   "execution_count": 9,
   "metadata": {},
   "outputs": [],
   "source": [
    "#one hot encode the y\n",
    "le = LabelEncoder()\n",
    "DataTraining['y']= le.fit_transform(DataTraining['y']) # no-> 0 yes-> 1"
   ]
  },
  {
   "cell_type": "code",
   "execution_count": 10,
   "metadata": {},
   "outputs": [],
   "source": [
    "#OUTLIER ANALYSIS, USING \"DBSCAN\"\n",
    "\n",
    "def outlierAnalysis(feature, EPS, min_samples_to_remove):\n",
    "    \n",
    "    fig, axes = plt.subplots(1, 2, figsize=(20, 1.7))\n",
    "    featureFilterModel = DBSCAN(eps = EPS, min_samples = min_samples_to_remove).fit(DataTraining[[feature,\"y\"]]) #Filter\n",
    "    \n",
    "    sns.boxplot(ax=axes[0], x=DataTraining[feature]).set_title(feature + \" distribution before filtering\")\n",
    "    sns.scatterplot(data=DataTraining, x=feature, y=\"y\", hue=featureFilterModel.labels_, style=featureFilterModel.labels_).set_title(feature + \" outlier values to be filtered\")\n",
    "    \n",
    "    featureOutliers = DataTraining[featureFilterModel.labels_ == -1]\n",
    "    \n",
    "    return featureOutliers"
   ]
  },
  {
   "cell_type": "code",
   "execution_count": 11,
   "metadata": {},
   "outputs": [
    {
     "data": {
      "image/png": "[encoded data removed]",
      "text/plain": [
       "<Figure size 1440x122.4 with 2 Axes>"
      ]
     },
     "metadata": {
      "needs_background": "light"
     },
     "output_type": "display_data"
    },
    {
     "data": {
      "image/png": "[encoded data removed]",
      "text/plain": [
       "<Figure size 1440x122.4 with 2 Axes>"
      ]
     },
     "metadata": {
      "needs_background": "light"
     },
     "output_type": "display_data"
    },
    {
     "data": {
      "image/png": "[encoded data removed]",
      "text/plain": [
       "<Figure size 1440x122.4 with 2 Axes>"
      ]
     },
     "metadata": {
      "needs_background": "light"
     },
     "output_type": "display_data"
    }
   ],
   "source": [
    "ageOutliers = outlierAnalysis(\"age\", 1 ,17) #remove -1 values\n",
    "balanceOutliers = outlierAnalysis(\"balance\", 1000, 15) #remove -1 values\n",
    "durationOutliers = outlierAnalysis(\"duration\", 10, 10) #remove -1 values"
   ]
  },
  {
   "cell_type": "code",
   "execution_count": 12,
   "metadata": {},
   "outputs": [],
   "source": [
    "#FILTER ALL DETECTED OUTLIERS\n",
    "DataTrainingFilterAge = pd.concat([DataTraining, ageOutliers]).drop_duplicates(keep=False)\n",
    "DataTrainingFilterBalance = pd.concat([DataTrainingFilterAge, balanceOutliers]).drop_duplicates(keep=False)\n",
    "DataTraining_OutliersFiltered = pd.concat([DataTrainingFilterBalance, durationOutliers]).drop_duplicates(keep=False)"
   ]
  },
  {
   "cell_type": "code",
   "execution_count": 13,
   "metadata": {},
   "outputs": [
    {
     "name": "stdout",
     "output_type": "stream",
     "text": [
      "AMOUNT OF OUTLIERS REMOVED:\n",
      "257\n"
     ]
    }
   ],
   "source": [
    "print(\"AMOUNT OF OUTLIERS REMOVED:\")\n",
    "print(DataTraining.shape[0] - DataTraining_OutliersFiltered.shape[0])"
   ]
  },
  {
   "cell_type": "code",
   "execution_count": 14,
   "metadata": {},
   "outputs": [],
   "source": [
    "#ADD A FEATURE REPRESENTING HOW MANY PEOPLE ARE IN THIS PERSONS CAMPAIGN then remove \"campaign\"\n",
    "CampaignValueCounsDF = DataTraining_OutliersFiltered[\"campaign\"].value_counts().to_frame() # CATEGORIZE AS, over 1000 || 999-100 || 99-10 || under 10\n",
    "CampaignValueCounsDF = CampaignValueCounsDF.rename(columns={\"campaign\" : \"Num_of_ppl_in_campaign\"})\n",
    "DataTraining_OutliersFiltered = pd.merge(DataTraining_OutliersFiltered,CampaignValueCounsDF, left_on=\"campaign\", right_index = True)\n",
    "del DataTraining_OutliersFiltered[\"campaign\"]"
   ]
  },
  {
   "cell_type": "code",
   "execution_count": 15,
   "metadata": {},
   "outputs": [],
   "source": [
    "#REMOVING THE \"day\" FEATURE AS IT HAS NO EFFECT ON THE RESULT\n",
    "DataTraining_OutliersFiltered = DataTraining_OutliersFiltered.drop(columns = [\"day\"])"
   ]
  },
  {
   "cell_type": "code",
   "execution_count": 16,
   "metadata": {},
   "outputs": [],
   "source": [
    "#STANDARDIZE, \"age\" - \"balance\" - \"duration\" - \"Num_of_ppl_in_campaign\"\n",
    "\n",
    "# Get columns to standardize\n",
    "names = DataTraining_OutliersFiltered[[\"age\",\"balance\",\"duration\",\"Num_of_ppl_in_campaign\"]]\n",
    "\n",
    "#Create the Scaler\n",
    "scaler =  preprocessing.StandardScaler()\n",
    "\n",
    "#Fit data on to the standart scale\n",
    "scaled_df = scaler.fit_transform(names)\n",
    "scaled_df = pd.DataFrame(scaled_df, columns= [\"age\",\"balance\",\"duration\",\"Num_of_ppl_in_campaign\"])"
   ]
  },
  {
   "cell_type": "code",
   "execution_count": 17,
   "metadata": {},
   "outputs": [],
   "source": [
    "#ADD \"y\" TO THE STANDARDIZED DATASET AND CHECK OUT THE CORRELATION MATRIX\n",
    "corrDf = pd.merge(scaled_df, DataTraining_OutliersFiltered[[\"y\"]], left_index=True, right_index=True)"
   ]
  },
  {
   "cell_type": "code",
   "execution_count": 18,
   "metadata": {},
   "outputs": [
    {
     "data": {
      "image/png": "[encoded data removed]",
      "text/plain": [
       "<Figure size 432x288 with 2 Axes>"
      ]
     },
     "metadata": {
      "needs_background": "light"
     },
     "output_type": "display_data"
    }
   ],
   "source": [
    "#CORRELATION MATRIX OF ALL NUMERICAL VALUES AND \"y\"\n",
    "sns.heatmap(corrDf.corr(), annot=True).set_title('\\n CORRELATION OF ALL NUMERICAL VALUES AND \"y\" \\n -looks okay, nothing needs to ve removed or modified- \\n')\n",
    "plt.show()\n",
    "#USE VISUALIZED CLUSTERING TO MODIFY CATEGORICAL DATA \n",
    "#CLUESTERİNG VİSUALİZATİON"
   ]
  },
  {
   "cell_type": "code",
   "execution_count": 19,
   "metadata": {},
   "outputs": [],
   "source": [
    "#NOW WE PRE-PROCESS THE CATEGORICAL DATA  || for \"y\" # no-> 0 yes-> 1\n",
    "\n",
    "# - \"job\"         1-ONE HOT ENCODE         \n",
    "# - \"marital\"     1-ONE HOT ENCODE\n",
    "# - \"education\"   1-ONE HOT ENCODE\n",
    "# - \"default\"     1-ONE HOT ENCODE\n",
    "# - \"housing\"     1-ONE HOT ENCODE\n",
    "# - \"loan\"        1-ONE HOT ENCODE\n",
    "# - \"contact\"     1-ONE HOT ENCODE\n",
    "# - \"month\"       1-REMOVE"
   ]
  },
  {
   "cell_type": "code",
   "execution_count": 20,
   "metadata": {},
   "outputs": [],
   "source": [
    "def categoricalDataAnalysis(featureCategoric):\n",
    "    print(\"\\n----\" + featureCategoric + \" value distribution\" + \"----\\n\")\n",
    "    print(DataTraining_OutliersFiltered[featureCategoric].value_counts())\n",
    "    print(\"\\n\\n----\" + featureCategoric + \" average y value (yes-> 1 no-> 0)\" + \"----\\n\")\n",
    "    print(DataTraining_OutliersFiltered.groupby(featureCategoric)[\"y\"].mean())"
   ]
  },
  {
   "cell_type": "code",
   "execution_count": 21,
   "metadata": {},
   "outputs": [
    {
     "name": "stdout",
     "output_type": "stream",
     "text": [
      "\n",
      "----job value distribution----\n",
      "\n",
      "blue-collar      9348\n",
      "management       8113\n",
      "technician       6819\n",
      "admin            4463\n",
      "services         3891\n",
      "self-employed    1403\n",
      "entrepreneur     1397\n",
      "retired          1383\n",
      "unemployed       1090\n",
      "housemaid        1080\n",
      "student           522\n",
      "unknown           234\n",
      "Name: job, dtype: int64\n",
      "\n",
      "\n",
      "----job average y value (yes-> 1 no-> 0)----\n",
      "\n",
      "job\n",
      "admin            0.075958\n",
      "blue-collar      0.055413\n",
      "entrepreneur     0.061560\n",
      "housemaid        0.046296\n",
      "management       0.080981\n",
      "retired          0.092552\n",
      "self-employed    0.076978\n",
      "services         0.058854\n",
      "student          0.155172\n",
      "technician       0.070392\n",
      "unemployed       0.081651\n",
      "unknown          0.068376\n",
      "Name: y, dtype: float64\n"
     ]
    }
   ],
   "source": [
    "categoricalDataAnalysis(\"job\")"
   ]
  },
  {
   "cell_type": "code",
   "execution_count": 22,
   "metadata": {},
   "outputs": [
    {
     "name": "stdout",
     "output_type": "stream",
     "text": [
      "\n",
      "----marital value distribution----\n",
      "\n",
      "married     24228\n",
      "single      10829\n",
      "divorced     4686\n",
      "Name: marital, dtype: int64\n",
      "\n",
      "\n",
      "----marital average y value (yes-> 1 no-> 0)----\n",
      "\n",
      "marital\n",
      "divorced    0.078532\n",
      "married     0.058527\n",
      "single      0.091883\n",
      "Name: y, dtype: float64\n"
     ]
    }
   ],
   "source": [
    "categoricalDataAnalysis(\"marital\")"
   ]
  },
  {
   "cell_type": "code",
   "execution_count": 23,
   "metadata": {},
   "outputs": [
    {
     "name": "stdout",
     "output_type": "stream",
     "text": [
      "\n",
      "----education value distribution----\n",
      "\n",
      "secondary    20887\n",
      "tertiary     11122\n",
      "primary       6213\n",
      "unknown       1521\n",
      "Name: education, dtype: int64\n",
      "\n",
      "\n",
      "----education average y value (yes-> 1 no-> 0)----\n",
      "\n",
      "education\n",
      "primary      0.052149\n",
      "secondary    0.065208\n",
      "tertiary     0.090092\n",
      "unknown      0.061144\n",
      "Name: y, dtype: float64\n"
     ]
    }
   ],
   "source": [
    "categoricalDataAnalysis(\"education\")"
   ]
  },
  {
   "cell_type": "code",
   "execution_count": 24,
   "metadata": {},
   "outputs": [
    {
     "name": "stdout",
     "output_type": "stream",
     "text": [
      "\n",
      "----default value distribution----\n",
      "\n",
      "no     38936\n",
      "yes      807\n",
      "Name: default, dtype: int64\n",
      "\n",
      "\n",
      "----default average y value (yes-> 1 no-> 0)----\n",
      "\n",
      "default\n",
      "no     0.070166\n",
      "yes    0.060719\n",
      "Name: y, dtype: float64\n"
     ]
    }
   ],
   "source": [
    "categoricalDataAnalysis(\"default\")"
   ]
  },
  {
   "cell_type": "code",
   "execution_count": 25,
   "metadata": {},
   "outputs": [
    {
     "name": "stdout",
     "output_type": "stream",
     "text": [
      "\n",
      "----housing value distribution----\n",
      "\n",
      "yes    23923\n",
      "no     15820\n",
      "Name: housing, dtype: int64\n",
      "\n",
      "\n",
      "----housing average y value (yes-> 1 no-> 0)----\n",
      "\n",
      "housing\n",
      "no     0.087105\n",
      "yes    0.058646\n",
      "Name: y, dtype: float64\n"
     ]
    }
   ],
   "source": [
    "categoricalDataAnalysis(\"housing\")"
   ]
  },
  {
   "cell_type": "code",
   "execution_count": 26,
   "metadata": {},
   "outputs": [
    {
     "name": "stdout",
     "output_type": "stream",
     "text": [
      "\n",
      "----loan value distribution----\n",
      "\n",
      "no     32842\n",
      "yes     6901\n",
      "Name: loan, dtype: int64\n",
      "\n",
      "\n",
      "----loan average y value (yes-> 1 no-> 0)----\n",
      "\n",
      "loan\n",
      "no     0.073625\n",
      "yes    0.052601\n",
      "Name: y, dtype: float64\n"
     ]
    }
   ],
   "source": [
    "categoricalDataAnalysis(\"loan\")"
   ]
  },
  {
   "cell_type": "code",
   "execution_count": 27,
   "metadata": {},
   "outputs": [
    {
     "name": "stdout",
     "output_type": "stream",
     "text": [
      "\n",
      "----contact value distribution----\n",
      "\n",
      "cellular     24766\n",
      "unknown      12706\n",
      "telephone     2271\n",
      "Name: contact, dtype: int64\n",
      "\n",
      "\n",
      "----contact average y value (yes-> 1 no-> 0)----\n",
      "\n",
      "contact\n",
      "cellular     0.087459\n",
      "telephone    0.064289\n",
      "unknown      0.036912\n",
      "Name: y, dtype: float64\n"
     ]
    }
   ],
   "source": [
    "categoricalDataAnalysis(\"contact\")"
   ]
  },
  {
   "cell_type": "code",
   "execution_count": 28,
   "metadata": {},
   "outputs": [
    {
     "name": "stdout",
     "output_type": "stream",
     "text": [
      "\n",
      "----month value distribution----\n",
      "\n",
      "may    13476\n",
      "jul     6351\n",
      "aug     5187\n",
      "jun     4714\n",
      "nov     3569\n",
      "apr     2678\n",
      "feb     2264\n",
      "jan     1168\n",
      "mar      247\n",
      "oct       76\n",
      "dec       13\n",
      "Name: month, dtype: int64\n",
      "\n",
      "\n",
      "----month average y value (yes-> 1 no-> 0)----\n",
      "\n",
      "month\n",
      "apr    0.162435\n",
      "aug    0.053981\n",
      "dec    0.076923\n",
      "feb    0.105565\n",
      "jan    0.029110\n",
      "jul    0.057786\n",
      "jun    0.060034\n",
      "mar    0.473684\n",
      "may    0.056842\n",
      "nov    0.059400\n",
      "oct    0.618421\n",
      "Name: y, dtype: float64\n"
     ]
    }
   ],
   "source": [
    "categoricalDataAnalysis(\"month\")\n",
    "DataTraining_OutliersFiltered = DataTraining_OutliersFiltered.drop(columns = [\"month\"])\n",
    "#We remove month since there aret enough data instances for each month which will result in bad generalization"
   ]
  },
  {
   "cell_type": "code",
   "execution_count": 29,
   "metadata": {},
   "outputs": [],
   "source": [
    "#ONE HOT ENCODE ALL CATEGORICAL DATA\n",
    "DataTraining_OutliersFiltered = pd.get_dummies(DataTraining_OutliersFiltered, columns=[\"job\"], prefix=[\"job\"])\n",
    "DataTraining_OutliersFiltered = pd.get_dummies(DataTraining_OutliersFiltered, columns=[\"marital\"], prefix=[\"marital\"])\n",
    "DataTraining_OutliersFiltered = pd.get_dummies(DataTraining_OutliersFiltered, columns=[\"education\"], prefix=[\"education\"])\n",
    "DataTraining_OutliersFiltered = pd.get_dummies(DataTraining_OutliersFiltered, columns=[\"default\"], prefix=[\"default\"])\n",
    "DataTraining_OutliersFiltered = pd.get_dummies(DataTraining_OutliersFiltered, columns=[\"housing\"], prefix=[\"housing\"])\n",
    "DataTraining_OutliersFiltered = pd.get_dummies(DataTraining_OutliersFiltered, columns=[\"loan\"], prefix=[\"loan\"])\n",
    "DataTraining_OutliersFiltered = pd.get_dummies(DataTraining_OutliersFiltered, columns=[\"contact\"], prefix=[\"contact\"])"
   ]
  },
  {
   "cell_type": "code",
   "execution_count": 30,
   "metadata": {},
   "outputs": [
    {
     "name": "stdout",
     "output_type": "stream",
     "text": [
      "Our Data After PreProcessing: \n",
      "\n"
     ]
    },
    {
     "data": {
      "text/html": [
       "<div>\n",
       "<style scoped>\n",
       "    .dataframe tbody tr th:only-of-type {\n",
       "        vertical-align: middle;\n",
       "    }\n",
       "\n",
       "    .dataframe tbody tr th {\n",
       "        vertical-align: top;\n",
       "    }\n",
       "\n",
       "    .dataframe thead th {\n",
       "        text-align: right;\n",
       "    }\n",
       "</style>\n",
       "<table border=\"1\" class=\"dataframe\">\n",
       "  <thead>\n",
       "    <tr style=\"text-align: right;\">\n",
       "      <th></th>\n",
       "      <th>y</th>\n",
       "      <th>job_admin</th>\n",
       "      <th>job_blue-collar</th>\n",
       "      <th>job_entrepreneur</th>\n",
       "      <th>job_housemaid</th>\n",
       "      <th>job_management</th>\n",
       "      <th>job_retired</th>\n",
       "      <th>job_self-employed</th>\n",
       "      <th>job_services</th>\n",
       "      <th>job_student</th>\n",
       "      <th>...</th>\n",
       "      <th>housing_yes</th>\n",
       "      <th>loan_no</th>\n",
       "      <th>loan_yes</th>\n",
       "      <th>contact_cellular</th>\n",
       "      <th>contact_telephone</th>\n",
       "      <th>contact_unknown</th>\n",
       "      <th>age</th>\n",
       "      <th>balance</th>\n",
       "      <th>duration</th>\n",
       "      <th>Num_of_ppl_in_campaign</th>\n",
       "    </tr>\n",
       "  </thead>\n",
       "  <tbody>\n",
       "    <tr>\n",
       "      <th>0</th>\n",
       "      <td>0</td>\n",
       "      <td>0</td>\n",
       "      <td>0</td>\n",
       "      <td>0</td>\n",
       "      <td>0</td>\n",
       "      <td>1</td>\n",
       "      <td>0</td>\n",
       "      <td>0</td>\n",
       "      <td>0</td>\n",
       "      <td>0</td>\n",
       "      <td>...</td>\n",
       "      <td>1</td>\n",
       "      <td>1</td>\n",
       "      <td>0</td>\n",
       "      <td>0</td>\n",
       "      <td>0</td>\n",
       "      <td>1</td>\n",
       "      <td>1.836861</td>\n",
       "      <td>0.377092</td>\n",
       "      <td>0.055533</td>\n",
       "      <td>0.988475</td>\n",
       "    </tr>\n",
       "    <tr>\n",
       "      <th>1</th>\n",
       "      <td>0</td>\n",
       "      <td>0</td>\n",
       "      <td>0</td>\n",
       "      <td>0</td>\n",
       "      <td>0</td>\n",
       "      <td>0</td>\n",
       "      <td>0</td>\n",
       "      <td>0</td>\n",
       "      <td>0</td>\n",
       "      <td>0</td>\n",
       "      <td>...</td>\n",
       "      <td>1</td>\n",
       "      <td>1</td>\n",
       "      <td>0</td>\n",
       "      <td>0</td>\n",
       "      <td>0</td>\n",
       "      <td>1</td>\n",
       "      <td>0.368948</td>\n",
       "      <td>-0.487600</td>\n",
       "      <td>-0.416691</td>\n",
       "      <td>0.988475</td>\n",
       "    </tr>\n",
       "    <tr>\n",
       "      <th>2</th>\n",
       "      <td>0</td>\n",
       "      <td>0</td>\n",
       "      <td>0</td>\n",
       "      <td>1</td>\n",
       "      <td>0</td>\n",
       "      <td>0</td>\n",
       "      <td>0</td>\n",
       "      <td>0</td>\n",
       "      <td>0</td>\n",
       "      <td>0</td>\n",
       "      <td>...</td>\n",
       "      <td>1</td>\n",
       "      <td>0</td>\n",
       "      <td>1</td>\n",
       "      <td>0</td>\n",
       "      <td>0</td>\n",
       "      <td>1</td>\n",
       "      <td>-0.784413</td>\n",
       "      <td>-0.498644</td>\n",
       "      <td>-0.738662</td>\n",
       "      <td>0.988475</td>\n",
       "    </tr>\n",
       "    <tr>\n",
       "      <th>3</th>\n",
       "      <td>0</td>\n",
       "      <td>0</td>\n",
       "      <td>1</td>\n",
       "      <td>0</td>\n",
       "      <td>0</td>\n",
       "      <td>0</td>\n",
       "      <td>0</td>\n",
       "      <td>0</td>\n",
       "      <td>0</td>\n",
       "      <td>0</td>\n",
       "      <td>...</td>\n",
       "      <td>1</td>\n",
       "      <td>1</td>\n",
       "      <td>0</td>\n",
       "      <td>0</td>\n",
       "      <td>0</td>\n",
       "      <td>1</td>\n",
       "      <td>0.683501</td>\n",
       "      <td>0.116539</td>\n",
       "      <td>-0.669975</td>\n",
       "      <td>0.988475</td>\n",
       "    </tr>\n",
       "    <tr>\n",
       "      <th>4</th>\n",
       "      <td>0</td>\n",
       "      <td>0</td>\n",
       "      <td>0</td>\n",
       "      <td>0</td>\n",
       "      <td>0</td>\n",
       "      <td>0</td>\n",
       "      <td>0</td>\n",
       "      <td>0</td>\n",
       "      <td>0</td>\n",
       "      <td>0</td>\n",
       "      <td>...</td>\n",
       "      <td>0</td>\n",
       "      <td>1</td>\n",
       "      <td>0</td>\n",
       "      <td>0</td>\n",
       "      <td>0</td>\n",
       "      <td>1</td>\n",
       "      <td>-0.784413</td>\n",
       "      <td>-0.499053</td>\n",
       "      <td>-0.214923</td>\n",
       "      <td>0.988475</td>\n",
       "    </tr>\n",
       "  </tbody>\n",
       "</table>\n",
       "<p>5 rows × 33 columns</p>\n",
       "</div>"
      ],
      "text/plain": [
       "   y  job_admin  job_blue-collar  job_entrepreneur  job_housemaid  \\\n",
       "0  0          0                0                 0              0   \n",
       "1  0          0                0                 0              0   \n",
       "2  0          0                0                 1              0   \n",
       "3  0          0                1                 0              0   \n",
       "4  0          0                0                 0              0   \n",
       "\n",
       "   job_management  job_retired  job_self-employed  job_services  job_student  \\\n",
       "0               1            0                  0             0            0   \n",
       "1               0            0                  0             0            0   \n",
       "2               0            0                  0             0            0   \n",
       "3               0            0                  0             0            0   \n",
       "4               0            0                  0             0            0   \n",
       "\n",
       "   ...  housing_yes  loan_no  loan_yes  contact_cellular  contact_telephone  \\\n",
       "0  ...            1        1         0                 0                  0   \n",
       "1  ...            1        1         0                 0                  0   \n",
       "2  ...            1        0         1                 0                  0   \n",
       "3  ...            1        1         0                 0                  0   \n",
       "4  ...            0        1         0                 0                  0   \n",
       "\n",
       "   contact_unknown       age   balance  duration  Num_of_ppl_in_campaign  \n",
       "0                1  1.836861  0.377092  0.055533                0.988475  \n",
       "1                1  0.368948 -0.487600 -0.416691                0.988475  \n",
       "2                1 -0.784413 -0.498644 -0.738662                0.988475  \n",
       "3                1  0.683501  0.116539 -0.669975                0.988475  \n",
       "4                1 -0.784413 -0.499053 -0.214923                0.988475  \n",
       "\n",
       "[5 rows x 33 columns]"
      ]
     },
     "execution_count": 30,
     "metadata": {},
     "output_type": "execute_result"
    }
   ],
   "source": [
    "#COMBINE SCALED NUMERICAL FEATURES WITH ENCODED CATEGORICAL FEATURES\n",
    "DataTraining_OutliersFiltered = DataTraining_OutliersFiltered.drop(columns = [\"age\", \"balance\", \"duration\", \"Num_of_ppl_in_campaign\"])\n",
    "DataPreProcessed = DataTraining_OutliersFiltered.join(scaled_df)\n",
    "DataPreProcessed = pd.merge(DataTraining_OutliersFiltered,scaled_df, left_index= True, right_index = True)\n",
    "print(\"Our Data After PreProcessing: \\n\")\n",
    "DataPreProcessed.head()"
   ]
  },
  {
   "cell_type": "code",
   "execution_count": 31,
   "metadata": {},
   "outputs": [],
   "source": [
    "#Creating Feature Vectors for the training data and dealing with the imbalance which has about 1 to 10 ratio\n",
    "X = DataPreProcessed.loc[:, DataPreProcessed.columns != 'y'].values\n",
    "Y = DataPreProcessed.loc[:, DataPreProcessed.columns == 'y'].values\n",
    "\n",
    "#DEALING WITH THE IMBALANCE BY OVERSAMPLING THE \"y=yes\" (there is about 10 no for each yes) \n",
    "oversample = SMOTE()\n",
    "X, Y = oversample.fit_resample(X, Y)"
   ]
  },
  {
   "cell_type": "code",
   "execution_count": 32,
   "metadata": {},
   "outputs": [],
   "source": [
    "# 5-FOLD CROSS VALIDATION\n",
    "rkf = RepeatedKFold(n_splits=5, n_repeats=1, random_state=None)\n",
    "for train_index, val_index in rkf.split(X):\n",
    "     X_train, X_test = X[train_index], X[val_index]\n",
    "     Y_train, Y_test = Y[train_index], Y[val_index]"
   ]
  },
  {
   "cell_type": "code",
   "execution_count": 33,
   "metadata": {},
   "outputs": [],
   "source": [
    "#TRAINING OUR MODELS || K-nn -- Desicion Tree -- Random Forest Model"
   ]
  },
  {
   "cell_type": "code",
   "execution_count": 34,
   "metadata": {},
   "outputs": [
    {
     "name": "stdout",
     "output_type": "stream",
     "text": [
      " *-*-*-*-*-*-*-*-*-*-*-*-*-*-*-*-*-*-*-*-*  K-NN Model  *-*-*-*-*-*-*-*-*-*-*-*-*-*-*-*-*-*-*-*-*-*\n",
      "Confusion Matrix: \n",
      "\n",
      "[[5862 1557]\n",
      " [ 253 7048]]\n",
      "\n",
      "\n",
      "Average Accuracy: \n",
      "\n",
      "0.8770380434782609\n",
      "\n",
      "\n",
      "Classification Report: (yes-> 1 no-> 0) \n",
      "\n",
      "              precision    recall  f1-score   support\n",
      "\n",
      "           0       0.96      0.79      0.87      7419\n",
      "           1       0.82      0.97      0.89      7301\n",
      "\n",
      "    accuracy                           0.88     14720\n",
      "   macro avg       0.89      0.88      0.88     14720\n",
      "weighted avg       0.89      0.88      0.88     14720\n",
      "\n"
     ]
    }
   ],
   "source": [
    "#K-Nearest Neighbors\n",
    "from sklearn.neighbors import KNeighborsClassifier\n",
    "knn = KNeighborsClassifier(n_neighbors=3, metric='minkowski')  #------->K-NN Model\n",
    "knn.fit(X_train,Y_train) #Training\n",
    "\n",
    "Y_pred = knn.predict(X_test) #Prediction\n",
    "\n",
    "cm = confusion_matrix(Y_test,Y_pred)\n",
    "print(\" *-*-*-*-*-*-*-*-*-*-*-*-*-*-*-*-*-*-*-*-*  K-NN Model  *-*-*-*-*-*-*-*-*-*-*-*-*-*-*-*-*-*-*-*-*-*\")\n",
    "print('Confusion Matrix: \\n')\n",
    "print(cm)\n",
    "print(\"\\n\")\n",
    "\n",
    "print('Average Accuracy: \\n')  \n",
    "print(accuracy_score(Y_test, Y_pred))\n",
    "print(\"\\n\")\n",
    "\n",
    "print('Classification Report: (yes-> 1 no-> 0) \\n')\n",
    "print(classification_report(Y_test, Y_pred))"
   ]
  },
  {
   "cell_type": "code",
   "execution_count": 35,
   "metadata": {},
   "outputs": [
    {
     "name": "stdout",
     "output_type": "stream",
     "text": [
      " *-*-*-*-*-*-*-*-*-*-*-*-*-*-*-*-*-*-*-*-*-*-*  DECISION TREE  *-*-*-*-*-*-*-*-*-*-*-*-*-*-*-*-*-*-*-*-*-*-*\n",
      "Confusion Matrix: \n",
      "\n",
      "[[6561  858]\n",
      " [ 702 6599]]\n",
      "\n",
      "\n",
      "Average Accuracy: \n",
      "\n",
      "0.8940217391304348\n",
      "\n",
      "\n",
      "Classification Report: (yes-> 1 no-> 0) \n",
      "\n",
      "              precision    recall  f1-score   support\n",
      "\n",
      "           0       0.90      0.88      0.89      7419\n",
      "           1       0.88      0.90      0.89      7301\n",
      "\n",
      "    accuracy                           0.89     14720\n",
      "   macro avg       0.89      0.89      0.89     14720\n",
      "weighted avg       0.89      0.89      0.89     14720\n",
      "\n"
     ]
    }
   ],
   "source": [
    "#Decision Tree\n",
    "from sklearn.tree import DecisionTreeClassifier\n",
    "dtc = DecisionTreeClassifier(criterion = 'entropy')  #-------->Desicion Tree Model\n",
    "dtc.fit(X_train,Y_train) #Training\n",
    "\n",
    "Y_pred = dtc.predict(X_test) #Prediction\n",
    "\n",
    "cm = confusion_matrix(Y_test,Y_pred)\n",
    "print(\" *-*-*-*-*-*-*-*-*-*-*-*-*-*-*-*-*-*-*-*-*-*-*  DECISION TREE  *-*-*-*-*-*-*-*-*-*-*-*-*-*-*-*-*-*-*-*-*-*-*\")\n",
    "print('Confusion Matrix: \\n')\n",
    "print(cm)\n",
    "print(\"\\n\")\n",
    "\n",
    "print('Average Accuracy: \\n')  \n",
    "print(accuracy_score(Y_test, Y_pred))\n",
    "print(\"\\n\")\n",
    "\n",
    "print('Classification Report: (yes-> 1 no-> 0) \\n')\n",
    "print(classification_report(Y_test, Y_pred))"
   ]
  },
  {
   "cell_type": "code",
   "execution_count": 36,
   "metadata": {},
   "outputs": [
    {
     "name": "stdout",
     "output_type": "stream",
     "text": [
      " *-*-*-*-*-*-*-*-*-*-*-*-*-*-*-*-*-*-*-*-*-*-*-*-*-  RANDOM FOREST  *-*-*-*-*-*-*-*-*-*-*-*-*-*-*-*-*-*-*-*-*-*-*-*-*\n",
      "Confusion Matrix: \n",
      "\n",
      "[[7013  406]\n",
      " [ 469 6832]]\n",
      "\n",
      "\n",
      "Average Accuracy: \n",
      "\n",
      "0.9405570652173914\n",
      "\n",
      "\n",
      "Classification Report: (yes-> 1 no-> 0) \n",
      "\n",
      "              precision    recall  f1-score   support\n",
      "\n",
      "           0       0.94      0.95      0.94      7419\n",
      "           1       0.94      0.94      0.94      7301\n",
      "\n",
      "    accuracy                           0.94     14720\n",
      "   macro avg       0.94      0.94      0.94     14720\n",
      "weighted avg       0.94      0.94      0.94     14720\n",
      "\n"
     ]
    }
   ],
   "source": [
    "#Random Forest\n",
    "from sklearn.ensemble import RandomForestClassifier\n",
    "rfc = RandomForestClassifier(n_estimators=1000, criterion = 'entropy') #-------->Random Forest Model\n",
    "rfc.fit(X_train,Y_train) #Training\n",
    "\n",
    "Y_pred = rfc.predict(X_test) #Prediction\n",
    "\n",
    "cm = confusion_matrix(Y_test,Y_pred)\n",
    "print(\" *-*-*-*-*-*-*-*-*-*-*-*-*-*-*-*-*-*-*-*-*-*-*-*-*-  RANDOM FOREST  *-*-*-*-*-*-*-*-*-*-*-*-*-*-*-*-*-*-*-*-*-*-*-*-*\")\n",
    "print('Confusion Matrix: \\n')\n",
    "print(cm)\n",
    "print(\"\\n\")\n",
    "\n",
    "print('Average Accuracy: \\n')  \n",
    "print(accuracy_score(Y_test, Y_pred))\n",
    "print(\"\\n\")\n",
    "\n",
    "print('Classification Report: (yes-> 1 no-> 0) \\n')\n",
    "print(classification_report(Y_test, Y_pred))"
   ]
  },
  {
   "cell_type": "code",
   "execution_count": null,
   "metadata": {},
   "outputs": [],
   "source": []
  }
 ],
 "metadata": {
  "kernelspec": {
   "display_name": "Python 3",
   "language": "python",
   "name": "python3"
  },
  "language_info": {
   "codemirror_mode": {
    "name": "ipython",
    "version": 3
   },
   "file_extension": ".py",
   "mimetype": "text/x-python",
   "name": "python",
   "nbconvert_exporter": "python",
   "pygments_lexer": "ipython3",
   "version": "3.8.5"
  }
 },
 "nbformat": 4,
 "nbformat_minor": 4
}
